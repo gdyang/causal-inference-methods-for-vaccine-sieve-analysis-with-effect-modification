{
 "cells": [
  {
   "cell_type": "markdown",
   "metadata": {},
   "source": [
    "## benchmarking with standard glm\n",
    "revised 03 August 2017, by [Nima Hejazi](http://nimahejazi.org)"
   ]
  },
  {
   "cell_type": "markdown",
   "metadata": {},
   "source": [
    "The purpose of this notebook is to benchmark the performance of the `survtmle` package using the standard `glm` implementation, on simulated data sets of varying sample sizes ($n = 100, 1000, 5000$). This is one of two notebooks meant to compare the performance of `glm` against that of `speedglm`."
   ]
  },
  {
   "cell_type": "markdown",
   "metadata": {},
   "source": [
    "### preliminaries"
   ]
  },
  {
   "cell_type": "code",
   "execution_count": 1,
   "metadata": {
    "collapsed": true
   },
   "outputs": [],
   "source": [
    "# preliminaries\n",
    "library(microbenchmark)\n",
    "\n",
    "# set seed and constants\n",
    "set.seed(341796)\n",
    "t_0 <- 15"
   ]
  },
  {
   "cell_type": "code",
   "execution_count": 2,
   "metadata": {},
   "outputs": [
    {
     "name": "stderr",
     "output_type": "stream",
     "text": [
      "Removing package from ‘/Users/nimahejazi/.Rlibrary’\n",
      "(as ‘lib’ is unspecified)\n"
     ]
    },
    {
     "name": "stdout",
     "output_type": "stream",
     "text": [
      "Running command /usr/local/Cellar/r/3.4.1_1/R.framework/Resources/bin/R \n",
      "Arguments:\n",
      "CMD\n",
      "INSTALL\n",
      "/private/var/folders/sr/8wdg8m6s5pv211sp22lr5dlw0000gn/T/Rtmp1nOYy8/devtoolsad903e1f7da0/tidyverse-rlang-e469466\n",
      "--library=/Users/nimahejazi/.Rlibrary\n",
      "--install-tests\n",
      "\n",
      "* installing *source* package ‘rlang’ ...\n",
      "clang -I/usr/local/Cellar/r/3.4.1_1/R.framework/Resources/include -DNDEBUG   -I/usr/local/opt/gettext/include -I/usr/local/opt/readline/include -I/usr/local/include   -fPIC  -g -O2  -c capture.c -o capture.o\n",
      "** libs\n",
      "clang -I/usr/local/Cellar/r/3.4.1_1/R.framework/Resources/include -DNDEBUG   -I/usr/local/opt/gettext/include -I/usr/local/opt/readline/include -I/usr/local/include   -fPIC  -g -O2  -c eval-tidy.c -o eval-tidy.o\n",
      "clang -I/usr/local/Cellar/r/3.4.1_1/R.framework/Resources/include -DNDEBUG   -I/usr/local/opt/gettext/include -I/usr/local/opt/readline/include -I/usr/local/include   -fPIC  -g -O2  -c init.c -o init.o\n",
      "clang -I/usr/local/Cellar/r/3.4.1_1/R.framework/Resources/include -DNDEBUG   -I/usr/local/opt/gettext/include -I/usr/local/opt/readline/include -I/usr/local/include   -fPIC  -g -O2  -c rlang.c -o rlang.o\n",
      "clang -I/usr/local/Cellar/r/3.4.1_1/R.framework/Resources/include -DNDEBUG   -I/usr/local/opt/gettext/include -I/usr/local/opt/readline/include -I/usr/local/include   -fPIC  -g -O2  -c test.c -o test.o\n",
      "clang -dynamiclib -Wl,-headerpad_max_install_names -undefined dynamic_lookup -single_module -multiply_defined suppress -L/usr/local/Cellar/r/3.4.1_1/R.framework/Resources/lib -L/usr/local/opt/gettext/lib -L/usr/local/opt/readline/lib -L/usr/local/lib -o rlang.so capture.o eval-tidy.o init.o rlang.o test.o -F/usr/local/Cellar/r/3.4.1_1/R.framework/.. -framework R -lintl -Wl,-framework -Wl,CoreFoundation\n",
      "installing to /Users/nimahejazi/.Rlibrary/rlang/libs\n",
      "** R\n",
      "** tests\n",
      "** byte-compile and prepare package for lazy loading\n",
      "** help\n",
      "*** installing help indices\n",
      "** building package indices\n",
      "** installing vignettes\n",
      "** testing if installed package can be loaded\n",
      "* DONE (rlang)\n",
      "Running command /usr/local/Cellar/r/3.4.1_1/R.framework/Resources/bin/R \n",
      "Arguments:\n",
      "CMD\n",
      "INSTALL\n",
      "/private/var/folders/sr/8wdg8m6s5pv211sp22lr5dlw0000gn/T/Rtmp1nOYy8/devtoolsad901ad3a9ea/benkeser-survtmle-d888758\n",
      "--library=/Users/nimahejazi/.Rlibrary\n",
      "--install-tests\n",
      "\n",
      "* installing *source* package ‘survtmle’ ...\n",
      "** R\n",
      "** data\n",
      "*** moving datasets to lazyload DB\n",
      "** tests\n",
      "** preparing package for lazy loading\n",
      "** help\n",
      "*** installing help indices\n",
      "** building package indices\n",
      "** installing vignettes\n",
      "** testing if installed package can be loaded\n",
      "* DONE (survtmle)\n"
     ]
    },
    {
     "name": "stderr",
     "output_type": "stream",
     "text": [
      "survtmle: Targeted Learning for Survival Analysis\n",
      "Version: 1.0.0\n"
     ]
    }
   ],
   "source": [
    "## get correct version of `survtmle`\n",
    "if (\"survtmle\" %in% installed.packages()) {\n",
    "    remove.packages(\"survtmle\")\n",
    "}\n",
    "suppressMessages(devtools::install_github(\"benkeser/survtmle\", ref = \"master\"))\n",
    "library(survtmle)"
   ]
  },
  {
   "cell_type": "markdown",
   "metadata": {},
   "source": [
    "## <u>Example 1: simple simulated data set</u>\n",
    "This is a rather trivial example wherein the simulated data set contains few covariates."
   ]
  },
  {
   "cell_type": "markdown",
   "metadata": {},
   "source": [
    "### case 1: _n = 100 (trivial example)_"
   ]
  },
  {
   "cell_type": "code",
   "execution_count": 3,
   "metadata": {
    "collapsed": true
   },
   "outputs": [],
   "source": [
    "# simulate data\n",
    "n <- 100\n",
    "W <- data.frame(W1 = runif(n), W2 = rbinom(n, 1, 0.5))\n",
    "A <- rbinom(n, 1, 0.5)\n",
    "T <- rgeom(n,plogis(-4 + W$W1 * W$W2 - A)) + 1\n",
    "C <- rgeom(n, plogis(-6 + W$W1)) + 1\n",
    "ftime <- pmin(T, C)\n",
    "ftype <- as.numeric(ftime == T)"
   ]
  },
  {
   "cell_type": "code",
   "execution_count": 4,
   "metadata": {},
   "outputs": [
    {
     "data": {
      "text/plain": [
       "   user  system elapsed \n",
       "  0.345   0.040   0.428 "
      ]
     },
     "metadata": {},
     "output_type": "display_data"
    }
   ],
   "source": [
    "system.time(\n",
    "    fit <- survtmle(ftime = ftime, ftype = ftype, trt = A, adjustVars = W,\n",
    "                    glm.trt = \"1\", glm.ftime = \"I(W1*W2) + trt + t\",\n",
    "                    glm.ctime = \"W1 + t\", method = \"hazard\", t0 = t_0)\n",
    ")"
   ]
  },
  {
   "cell_type": "code",
   "execution_count": 7,
   "metadata": {
    "scrolled": false
   },
   "outputs": [
    {
     "data": {
      "text/html": [
       "<table>\n",
       "<thead><tr><th scope=col>expr</th><th scope=col>min</th><th scope=col>lq</th><th scope=col>mean</th><th scope=col>median</th><th scope=col>uq</th><th scope=col>max</th><th scope=col>neval</th></tr></thead>\n",
       "<tbody>\n",
       "\t<tr><td><span style=white-space:pre-wrap>fit &lt;- survtmle(ftime = ftime, ftype = ftype, trt = A, adjustVars = W,      glm.trt = \"1\", glm.ftime = \"I(W1*W2) + trt + t\", glm.ctime = \"W1 + t\",      method = \"hazard\", t0 = t_0)</span></td><td>0.164433                                                                                                                                                                                                                       </td><td>0.1925621                                                                                                                                                                                                                      </td><td>0.2787557                                                                                                                                                                                                                      </td><td>0.2106679                                                                                                                                                                                                                      </td><td>0.3543194                                                                                                                                                                                                                      </td><td>1.029168                                                                                                                                                                                                                       </td><td>100                                                                                                                                                                                                                            </td></tr>\n",
       "</tbody>\n",
       "</table>\n"
      ],
      "text/latex": [
       "\\begin{tabular}{r|llllllll}\n",
       " expr & min & lq & mean & median & uq & max & neval\\\\\n",
       "\\hline\n",
       "\t fit <- survtmle(ftime = ftime, ftype = ftype, trt = A, adjustVars = W,      glm.trt = \"1\", glm.ftime = \"I(W1*W2) + trt + t\", glm.ctime = \"W1 + t\",      method = \"hazard\", t0 = t\\_0) & 0.164433                                                                                                                                                                               & 0.1925621                                                                                                                                                                              & 0.2787557                                                                                                                                                                              & 0.2106679                                                                                                                                                                              & 0.3543194                                                                                                                                                                              & 1.029168                                                                                                                                                                               & 100                                                                                                                                                                                   \\\\\n",
       "\\end{tabular}\n"
      ],
      "text/markdown": [
       "\n",
       "expr | min | lq | mean | median | uq | max | neval | \n",
       "|---|\n",
       "| fit <- survtmle(ftime = ftime, ftype = ftype, trt = A, adjustVars = W,      glm.trt = \"1\", glm.ftime = \"I(W1*W2) + trt + t\", glm.ctime = \"W1 + t\",      method = \"hazard\", t0 = t_0) | 0.164433                                                                                                                                                                             | 0.1925621                                                                                                                                                                            | 0.2787557                                                                                                                                                                            | 0.2106679                                                                                                                                                                            | 0.3543194                                                                                                                                                                            | 1.029168                                                                                                                                                                             | 100                                                                                                                                                                                  | \n",
       "\n",
       "\n"
      ],
      "text/plain": [
       "  expr                                                                                                                                                                                \n",
       "1 fit <- survtmle(ftime = ftime, ftype = ftype, trt = A, adjustVars = W,      glm.trt = \"1\", glm.ftime = \"I(W1*W2) + trt + t\", glm.ctime = \"W1 + t\",      method = \"hazard\", t0 = t_0)\n",
       "  min      lq        mean      median    uq        max      neval\n",
       "1 0.164433 0.1925621 0.2787557 0.2106679 0.3543194 1.029168 100  "
      ]
     },
     "metadata": {},
     "output_type": "display_data"
    }
   ],
   "source": [
    "m1 <- microbenchmark(unit = \"s\",\n",
    "    fit <- survtmle(ftime = ftime, ftype = ftype, trt = A, adjustVars = W,\n",
    "                    glm.trt = \"1\", glm.ftime = \"I(W1*W2) + trt + t\",\n",
    "                    glm.ctime = \"W1 + t\", method = \"hazard\", t0 = t_0)\n",
    ")\n",
    "summary(m1)"
   ]
  },
  {
   "cell_type": "markdown",
   "metadata": {},
   "source": [
    "This trivial example is merely provided for the sake of comparison against the following cases with larger sample sizes."
   ]
  },
  {
   "cell_type": "markdown",
   "metadata": {},
   "source": [
    "### case 2: _n = 1000_"
   ]
  },
  {
   "cell_type": "code",
   "execution_count": 8,
   "metadata": {
    "collapsed": true
   },
   "outputs": [],
   "source": [
    "# simulate data\n",
    "n <- 1000\n",
    "W <- data.frame(W1 = runif(n), W2 = rbinom(n, 1, 0.5))\n",
    "A <- rbinom(n, 1, 0.5)\n",
    "T <- rgeom(n,plogis(-4 + W$W1 * W$W2 - A)) + 1\n",
    "C <- rgeom(n, plogis(-6 + W$W1)) + 1\n",
    "ftime <- pmin(T, C)\n",
    "ftype <- as.numeric(ftime == T)"
   ]
  },
  {
   "cell_type": "code",
   "execution_count": 9,
   "metadata": {},
   "outputs": [
    {
     "data": {
      "text/plain": [
       "   user  system elapsed \n",
       "  3.976   0.354   4.724 "
      ]
     },
     "metadata": {},
     "output_type": "display_data"
    }
   ],
   "source": [
    "system.time(\n",
    "    fit <- survtmle(ftime = ftime, ftype = ftype, trt = A, adjustVars = W,\n",
    "                    glm.trt = \"1\", glm.ftime = \"I(W1*W2) + trt + t\",\n",
    "                    glm.ctime = \"W1 + t\", method = \"hazard\", t0 = t_0)\n",
    ")"
   ]
  },
  {
   "cell_type": "code",
   "execution_count": 10,
   "metadata": {},
   "outputs": [
    {
     "data": {
      "text/html": [
       "<table>\n",
       "<thead><tr><th scope=col>expr</th><th scope=col>min</th><th scope=col>lq</th><th scope=col>mean</th><th scope=col>median</th><th scope=col>uq</th><th scope=col>max</th><th scope=col>neval</th></tr></thead>\n",
       "<tbody>\n",
       "\t<tr><td><span style=white-space:pre-wrap>fit &lt;- survtmle(ftime = ftime, ftype = ftype, trt = A, adjustVars = W,      glm.trt = \"1\", glm.ftime = \"I(W1*W2) + trt + t\", glm.ctime = \"W1 + t\",      method = \"hazard\", t0 = t_0)</span></td><td>3.12288                                                                                                                                                                                                                        </td><td>3.533934                                                                                                                                                                                                                       </td><td>4.981433                                                                                                                                                                                                                       </td><td>4.469329                                                                                                                                                                                                                       </td><td>5.478612                                                                                                                                                                                                                       </td><td>12.67222                                                                                                                                                                                                                       </td><td>100                                                                                                                                                                                                                            </td></tr>\n",
       "</tbody>\n",
       "</table>\n"
      ],
      "text/latex": [
       "\\begin{tabular}{r|llllllll}\n",
       " expr & min & lq & mean & median & uq & max & neval\\\\\n",
       "\\hline\n",
       "\t fit <- survtmle(ftime = ftime, ftype = ftype, trt = A, adjustVars = W,      glm.trt = \"1\", glm.ftime = \"I(W1*W2) + trt + t\", glm.ctime = \"W1 + t\",      method = \"hazard\", t0 = t\\_0) & 3.12288                                                                                                                                                                                & 3.533934                                                                                                                                                                               & 4.981433                                                                                                                                                                               & 4.469329                                                                                                                                                                               & 5.478612                                                                                                                                                                               & 12.67222                                                                                                                                                                               & 100                                                                                                                                                                                   \\\\\n",
       "\\end{tabular}\n"
      ],
      "text/markdown": [
       "\n",
       "expr | min | lq | mean | median | uq | max | neval | \n",
       "|---|\n",
       "| fit <- survtmle(ftime = ftime, ftype = ftype, trt = A, adjustVars = W,      glm.trt = \"1\", glm.ftime = \"I(W1*W2) + trt + t\", glm.ctime = \"W1 + t\",      method = \"hazard\", t0 = t_0) | 3.12288                                                                                                                                                                              | 3.533934                                                                                                                                                                             | 4.981433                                                                                                                                                                             | 4.469329                                                                                                                                                                             | 5.478612                                                                                                                                                                             | 12.67222                                                                                                                                                                             | 100                                                                                                                                                                                  | \n",
       "\n",
       "\n"
      ],
      "text/plain": [
       "  expr                                                                                                                                                                                \n",
       "1 fit <- survtmle(ftime = ftime, ftype = ftype, trt = A, adjustVars = W,      glm.trt = \"1\", glm.ftime = \"I(W1*W2) + trt + t\", glm.ctime = \"W1 + t\",      method = \"hazard\", t0 = t_0)\n",
       "  min     lq       mean     median   uq       max      neval\n",
       "1 3.12288 3.533934 4.981433 4.469329 5.478612 12.67222 100  "
      ]
     },
     "metadata": {},
     "output_type": "display_data"
    }
   ],
   "source": [
    "m2 <- microbenchmark(unit = \"s\",\n",
    "    fit <- survtmle(ftime = ftime, ftype = ftype, trt = A, adjustVars = W,\n",
    "                    glm.trt = \"1\", glm.ftime = \"I(W1*W2) + trt + t\",\n",
    "                    glm.ctime = \"W1 + t\", method = \"hazard\", t0 = t_0)\n",
    ")\n",
    "summary(m2)"
   ]
  },
  {
   "cell_type": "markdown",
   "metadata": {},
   "source": [
    "From the use of `system.time` we can clearly see that there is nearly an order of magnitude difference in the performance of `survtmle` when increasing the sample size from $n = 100$ to $n = 1000$, suggesting that the use of `glm` merely scales directly with the sample size."
   ]
  },
  {
   "cell_type": "markdown",
   "metadata": {},
   "source": [
    "### case 3: _n = 5000_"
   ]
  },
  {
   "cell_type": "code",
   "execution_count": 11,
   "metadata": {
    "collapsed": true
   },
   "outputs": [],
   "source": [
    "# simulate data\n",
    "n <- 5000\n",
    "W <- data.frame(W1 = runif(n), W2 = rbinom(n, 1, 0.5))\n",
    "A <- rbinom(n, 1, 0.5)\n",
    "T <- rgeom(n,plogis(-4 + W$W1 * W$W2 - A)) + 1\n",
    "C <- rgeom(n, plogis(-6 + W$W1)) + 1\n",
    "ftime <- pmin(T, C)\n",
    "ftype <- as.numeric(ftime == T)"
   ]
  },
  {
   "cell_type": "code",
   "execution_count": 12,
   "metadata": {},
   "outputs": [
    {
     "data": {
      "text/plain": [
       "   user  system elapsed \n",
       " 21.103   2.642  35.078 "
      ]
     },
     "metadata": {},
     "output_type": "display_data"
    }
   ],
   "source": [
    "system.time(\n",
    "    fit <- survtmle(ftime = ftime, ftype = ftype, trt = A, adjustVars = W,\n",
    "                    glm.trt = \"1\", glm.ftime = \"I(W1*W2) + trt + t\",\n",
    "                    glm.ctime = \"W1 + t\", method = \"hazard\", t0 = t_0)\n",
    ")"
   ]
  },
  {
   "cell_type": "code",
   "execution_count": 49,
   "metadata": {
    "collapsed": true
   },
   "outputs": [],
   "source": [
    "#m3 <- microbenchmark(unit = \"s\",\n",
    "#    fit <- survtmle(ftime = ftime, ftype = ftype, trt = A, adjustVars = W,\n",
    "#                    glm.trt = \"1\", glm.ftime = \"I(W1*W2) + trt + t\",\n",
    "#                    glm.ctime = \"W1 + t\", method = \"hazard\", t0 = t_0)\n",
    "#)\n",
    "#summary(m3)"
   ]
  },
  {
   "cell_type": "markdown",
   "metadata": {},
   "source": [
    "This case takes too long to benchmark properly, but we can still gather some degree of information using `system.time`. It appears that increasing the sample size from $n = 1000$ to $n = 5000$ causes a rather large lag in `survtmle` performance when using `glm`."
   ]
  },
  {
   "cell_type": "markdown",
   "metadata": {},
   "source": [
    "## <u>Example 2: a \"more real\" simulated data set</u>\n",
    "This is a more interesting example wherein the simulated data set contains a larger number of covariates, which might be interesting in real-world / practical applications."
   ]
  },
  {
   "cell_type": "code",
   "execution_count": 3,
   "metadata": {
    "collapsed": true
   },
   "outputs": [],
   "source": [
    "# functions for this simulation\n",
    "get.ftimeForm <- function(trt, site){\n",
    "\tform <- \"-1\"\n",
    "\tfor(i in unique(trt)){\n",
    "\t\tfor(s in unique(site)){\n",
    "\t\t\tform <- c(form, \n",
    "\t\t\t  paste0(\"I(trt==\",i,\"& site == \",s,\" & t==\",\n",
    "\t\t\t         unique(ftime[ftype>0 & trt==i & site == s]),\")\",\n",
    "\t\t\t         collapse=\"+\"))\n",
    "\t\t}\n",
    "\t}\n",
    "\treturn(paste(form,collapse=\"+\"))\n",
    "}\n",
    "\n",
    "get.ctimeForm <- function(trt, site){\n",
    "\tform <- \"-1\"\n",
    "\tfor(i in unique(trt)){\n",
    "\t\tfor(s in unique(site)){\n",
    "\t\t\tform <- c(form, \n",
    "\t\t\t  paste0(\"I(trt==\",i,\"& site == \",s,\" & t==\",\n",
    "\t\t\t         unique(ftime[ftype==0 & trt==i & site == s]),\")\",\n",
    "\t\t\t         collapse=\"+\"))\n",
    "\t\t}\n",
    "\t}\n",
    "\treturn(paste(form,collapse=\"+\"))\n",
    "}"
   ]
  },
  {
   "cell_type": "markdown",
   "metadata": {},
   "source": [
    "### case 1: _n = 100 (trivial example)_"
   ]
  },
  {
   "cell_type": "code",
   "execution_count": 4,
   "metadata": {
    "collapsed": true
   },
   "outputs": [],
   "source": [
    "# simulate data\n",
    "n <- 100\n",
    "trt <- rbinom(n, 1, 0.5)\n",
    "\n",
    "# e.g., study site\n",
    "adjustVars <- data.frame(site = (rbinom(n,1,0.5) + 1))\n",
    "ftime <- round(1 + runif(n, 1, 350) - trt + adjustVars$site)\n",
    "ftype <- round(runif(n, 0, 1))\n",
    "\n",
    "glm.ftime <- get.ftimeForm(trt = trt, site = adjustVars$site)\n",
    "glm.ctime <- get.ctimeForm(trt = trt, site = adjustVars$site)"
   ]
  },
  {
   "cell_type": "code",
   "execution_count": 6,
   "metadata": {},
   "outputs": [
    {
     "data": {
      "text/plain": [
       "   user  system elapsed \n",
       "  1.976   0.088   2.083 "
      ]
     },
     "metadata": {},
     "output_type": "display_data"
    }
   ],
   "source": [
    "system.time(\n",
    "    fit <- survtmle(ftime = ftime, ftype = ftype, trt = trt, adjustVars = adjustVars,\n",
    "                    glm.trt = \"1\", glm.ftime = glm.ftime, glm.ctime = glm.ctime,\n",
    "                    method = \"hazard\", t0 = t_0)\n",
    ")"
   ]
  },
  {
   "cell_type": "code",
   "execution_count": 9,
   "metadata": {},
   "outputs": [
    {
     "data": {
      "text/html": [
       "<table>\n",
       "<thead><tr><th scope=col>expr</th><th scope=col>min</th><th scope=col>lq</th><th scope=col>mean</th><th scope=col>median</th><th scope=col>uq</th><th scope=col>max</th><th scope=col>neval</th></tr></thead>\n",
       "<tbody>\n",
       "\t<tr><td><span style=white-space:pre-wrap>fit &lt;- survtmle(ftime = ftime, ftype = ftype, trt = trt, adjustVars = adjustVars,      glm.trt = \"1\", glm.ftime = glm.ftime, glm.ctime = glm.ctime,      method = \"hazard\", t0 = t_0)</span></td><td>1.248741                                                                                                                                                                                                                        </td><td>1.487545                                                                                                                                                                                                                        </td><td>1.733672                                                                                                                                                                                                                        </td><td>1.604624                                                                                                                                                                                                                        </td><td>1.827451                                                                                                                                                                                                                        </td><td>3.032312                                                                                                                                                                                                                        </td><td>100                                                                                                                                                                                                                             </td></tr>\n",
       "</tbody>\n",
       "</table>\n"
      ],
      "text/latex": [
       "\\begin{tabular}{r|llllllll}\n",
       " expr & min & lq & mean & median & uq & max & neval\\\\\n",
       "\\hline\n",
       "\t fit <- survtmle(ftime = ftime, ftype = ftype, trt = trt, adjustVars = adjustVars,      glm.trt = \"1\", glm.ftime = glm.ftime, glm.ctime = glm.ctime,      method = \"hazard\", t0 = t\\_0) & 1.248741                                                                                                                                                                                & 1.487545                                                                                                                                                                                & 1.733672                                                                                                                                                                                & 1.604624                                                                                                                                                                                & 1.827451                                                                                                                                                                                & 3.032312                                                                                                                                                                                & 100                                                                                                                                                                                    \\\\\n",
       "\\end{tabular}\n"
      ],
      "text/markdown": [
       "\n",
       "expr | min | lq | mean | median | uq | max | neval | \n",
       "|---|\n",
       "| fit <- survtmle(ftime = ftime, ftype = ftype, trt = trt, adjustVars = adjustVars,      glm.trt = \"1\", glm.ftime = glm.ftime, glm.ctime = glm.ctime,      method = \"hazard\", t0 = t_0) | 1.248741                                                                                                                                                                              | 1.487545                                                                                                                                                                              | 1.733672                                                                                                                                                                              | 1.604624                                                                                                                                                                              | 1.827451                                                                                                                                                                              | 3.032312                                                                                                                                                                              | 100                                                                                                                                                                                   | \n",
       "\n",
       "\n"
      ],
      "text/plain": [
       "  expr                                                                                                                                                                                 \n",
       "1 fit <- survtmle(ftime = ftime, ftype = ftype, trt = trt, adjustVars = adjustVars,      glm.trt = \"1\", glm.ftime = glm.ftime, glm.ctime = glm.ctime,      method = \"hazard\", t0 = t_0)\n",
       "  min      lq       mean     median   uq       max      neval\n",
       "1 1.248741 1.487545 1.733672 1.604624 1.827451 3.032312 100  "
      ]
     },
     "metadata": {},
     "output_type": "display_data"
    }
   ],
   "source": [
    "m4 <- microbenchmark(unit = \"s\",\n",
    "    fit <- survtmle(ftime = ftime, ftype = ftype, trt = trt, adjustVars = adjustVars,\n",
    "                    glm.trt = \"1\", glm.ftime = glm.ftime, glm.ctime = glm.ctime,\n",
    "                    method = \"hazard\", t0 = t_0)\n",
    ")\n",
    "summary(m4)"
   ]
  },
  {
   "cell_type": "markdown",
   "metadata": {},
   "source": [
    "This example case is provided merely for comparison to the immediately following example."
   ]
  },
  {
   "cell_type": "markdown",
   "metadata": {},
   "source": [
    "### case 2: _n = 1000_"
   ]
  },
  {
   "cell_type": "code",
   "execution_count": 10,
   "metadata": {
    "collapsed": true
   },
   "outputs": [],
   "source": [
    "# simulate data\n",
    "n <- 1000\n",
    "trt <- rbinom(n, 1, 0.5)\n",
    "\n",
    "# e.g., study site\n",
    "adjustVars <- data.frame(site = (rbinom(n,1,0.5) + 1))\n",
    "ftime <- round(1 + runif(n, 1, 350) - trt + adjustVars$site)\n",
    "ftype <- round(runif(n, 0, 1))\n",
    "\n",
    "glm.ftime <- get.ftimeForm(trt = trt, site = adjustVars$site)\n",
    "glm.ctime <- get.ctimeForm(trt = trt, site = adjustVars$site)"
   ]
  },
  {
   "cell_type": "code",
   "execution_count": 11,
   "metadata": {},
   "outputs": [
    {
     "name": "stderr",
     "output_type": "stream",
     "text": [
      "Timing stopped at: 1925 80.45 2212\n"
     ]
    }
   ],
   "source": [
    "system.time(\n",
    "    fit <- survtmle(ftime = ftime, ftype = ftype, trt = trt, adjustVars = adjustVars,\n",
    "                    glm.trt = \"1\", glm.ftime = glm.ftime, glm.ctime = glm.ctime,\n",
    "                    method = \"hazard\", t0 = t_0)\n",
    ")"
   ]
  },
  {
   "cell_type": "code",
   "execution_count": null,
   "metadata": {
    "collapsed": true
   },
   "outputs": [],
   "source": [
    "m5 <- microbenchmark(unit = \"s\",\n",
    "    fit <- survtmle(ftime = ftime, ftype = ftype, trt = trt, adjustVars = adjustVars,\n",
    "                    glm.trt = \"1\", glm.ftime = glm.ftime, glm.ctime = glm.ctime,\n",
    "                    method = \"hazard\", t0 = t_0)\n",
    ")\n",
    "summary(m5)"
   ]
  },
  {
   "cell_type": "markdown",
   "metadata": {},
   "source": [
    "commentary here..."
   ]
  },
  {
   "cell_type": "markdown",
   "metadata": {},
   "source": [
    "### case 3: _n = 5000_"
   ]
  },
  {
   "cell_type": "code",
   "execution_count": null,
   "metadata": {
    "collapsed": true
   },
   "outputs": [],
   "source": [
    "# simulate data\n",
    "#n <- 5000\n",
    "#trt <- rbinom(n, 1, 0.5)\n",
    "\n",
    "# e.g., study site\n",
    "#adjustVars <- data.frame(site = (rbinom(n,1,0.5) + 1))\n",
    "#ftime <- round(1 + runif(n, 1, 350) - trt + adjustVars$site)\n",
    "#ftype <- round(runif(n, 0, 1))\n",
    "\n",
    "#glm.ftime <- get.ftimeForm(trt = trt, site = adjustVars$site)\n",
    "#glm.ctime <- get.ctimeForm(trt = trt, site = adjustVars$site)"
   ]
  },
  {
   "cell_type": "code",
   "execution_count": null,
   "metadata": {
    "collapsed": true
   },
   "outputs": [],
   "source": [
    "#system.time(\n",
    "#    fit <- survtmle(ftime = ftime, ftype = ftype, trt = trt, adjustVars = adjustVars,\n",
    "#                    glm.trt = \"1\", glm.ftime = glm.ftime, glm.ctime = glm.ctime,\n",
    "#                    method = \"hazard\", t0 = t_0)\n",
    "#)"
   ]
  },
  {
   "cell_type": "code",
   "execution_count": null,
   "metadata": {
    "collapsed": true
   },
   "outputs": [],
   "source": [
    "#m6 <- microbenchmark(unit = \"s\",\n",
    "#    fit <- survtmle(ftime = ftime, ftype = ftype, trt = trt, adjustVars = adjustVars,\n",
    "#                    glm.trt = \"1\", glm.ftime = glm.ftime, glm.ctime = glm.ctime,\n",
    "#                    method = \"hazard\", t0 = t_0)\n",
    "#)\n",
    "#summary(m6)"
   ]
  },
  {
   "cell_type": "markdown",
   "metadata": {},
   "source": [
    "As in the previous example, this case takes too long to benchmark properly."
   ]
  }
 ],
 "metadata": {
  "kernelspec": {
   "display_name": "R",
   "language": "R",
   "name": "ir"
  },
  "language_info": {
   "codemirror_mode": "r",
   "file_extension": ".r",
   "mimetype": "text/x-r-source",
   "name": "R",
   "pygments_lexer": "r",
   "version": "3.4.1"
  }
 },
 "nbformat": 4,
 "nbformat_minor": 2
}
