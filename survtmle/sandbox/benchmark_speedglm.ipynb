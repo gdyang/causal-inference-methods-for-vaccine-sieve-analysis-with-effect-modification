{
 "cells": [
  {
   "cell_type": "markdown",
   "metadata": {},
   "source": [
    "## benchmarking with the speedglm implementation\n",
    "revised 03 August 2017, by [Nima Hejazi](http://nimahejazi.org)"
   ]
  },
  {
   "cell_type": "markdown",
   "metadata": {},
   "source": [
    "The purpose of this notebook is to benchmark the performance of the `survtmle` package using the standard `glm` implementation, on simulated data sets of varying sample sizes ($n = 100, 1000, 5000$). This is one of two notebooks meant to compare the performance of `glm` against that of `speedglm`."
   ]
  },
  {
   "cell_type": "markdown",
   "metadata": {},
   "source": [
    "### preliminaries"
   ]
  },
  {
   "cell_type": "code",
   "execution_count": 1,
   "metadata": {
    "collapsed": true
   },
   "outputs": [],
   "source": [
    "# preliminaries\n",
    "library(microbenchmark)\n",
    "\n",
    "# set seed and constants\n",
    "set.seed(341796)\n",
    "t_0 <- 15"
   ]
  },
  {
   "cell_type": "code",
   "execution_count": 2,
   "metadata": {},
   "outputs": [
    {
     "name": "stderr",
     "output_type": "stream",
     "text": [
      "Removing package from ‘/Users/nimahejazi/.Rlibrary’\n",
      "(as ‘lib’ is unspecified)\n",
      "survtmle: Targeted Learning for Survival Analysis\n",
      "Version: 1.0.1.2\n"
     ]
    }
   ],
   "source": [
    "## get correct version of `survtmle`\n",
    "if (\"survtmle\" %in% installed.packages()) {\n",
    "    remove.packages(\"survtmle\")\n",
    "}\n",
    "suppressMessages(devtools::install_github(\"benkeser/survtmle\", ref = \"speedglm\"))\n",
    "library(survtmle)"
   ]
  },
  {
   "cell_type": "markdown",
   "metadata": {},
   "source": [
    "## <u>Example 1: simple simulated data set</u>\n",
    "This is a rather trivial example wherein the simulated data set contains few covariates."
   ]
  },
  {
   "cell_type": "markdown",
   "metadata": {},
   "source": [
    "### case 1: _n = 100 (trivial example)_"
   ]
  },
  {
   "cell_type": "code",
   "execution_count": 3,
   "metadata": {
    "collapsed": true
   },
   "outputs": [],
   "source": [
    "# simulate data\n",
    "n <- 100\n",
    "W <- data.frame(W1 = runif(n), W2 = rbinom(n, 1, 0.5))\n",
    "A <- rbinom(n, 1, 0.5)\n",
    "T <- rgeom(n,plogis(-4 + W$W1 * W$W2 - A)) + 1\n",
    "C <- rgeom(n, plogis(-6 + W$W1)) + 1\n",
    "ftime <- pmin(T, C)\n",
    "ftype <- as.numeric(ftime == T)"
   ]
  },
  {
   "cell_type": "code",
   "execution_count": 5,
   "metadata": {},
   "outputs": [
    {
     "name": "stderr",
     "output_type": "stream",
     "text": [
      "'speedglm' ran into an error in estimateTreatment ... using 'glm' instead.\n"
     ]
    },
    {
     "data": {
      "text/plain": [
       "   user  system elapsed \n",
       "  1.068   0.028   1.206 "
      ]
     },
     "metadata": {},
     "output_type": "display_data"
    }
   ],
   "source": [
    "system.time(\n",
    "    fit <- survtmle(ftime = ftime, ftype = ftype, trt = A, adjustVars = W,\n",
    "                    glm.trt = \"1\", glm.ftime = \"I(W1*W2) + trt + t\",\n",
    "                    glm.ctime = \"W1 + t\", method = \"hazard\", t0 = t_0)\n",
    ")"
   ]
  },
  {
   "cell_type": "code",
   "execution_count": 6,
   "metadata": {
    "scrolled": false
   },
   "outputs": [
    {
     "data": {
      "text/html": [
       "<table>\n",
       "<thead><tr><th scope=col>expr</th><th scope=col>min</th><th scope=col>lq</th><th scope=col>mean</th><th scope=col>median</th><th scope=col>uq</th><th scope=col>max</th><th scope=col>neval</th></tr></thead>\n",
       "<tbody>\n",
       "\t<tr><td><span style=white-space:pre-wrap>fit &lt;- survtmle(ftime = ftime, ftype = ftype, trt = A, adjustVars = W,      glm.trt = \"1\", glm.ftime = \"I(W1*W2) + trt + t\", glm.ctime = \"W1 + t\",      method = \"hazard\", t0 = t_0)</span></td><td>0.2023905                                                                                                                                                                                                                      </td><td>0.3553329                                                                                                                                                                                                                      </td><td>0.4939564                                                                                                                                                                                                                      </td><td>0.4316623                                                                                                                                                                                                                      </td><td>0.5383586                                                                                                                                                                                                                      </td><td>1.740011                                                                                                                                                                                                                       </td><td>100                                                                                                                                                                                                                            </td></tr>\n",
       "</tbody>\n",
       "</table>\n"
      ],
      "text/latex": [
       "\\begin{tabular}{r|llllllll}\n",
       " expr & min & lq & mean & median & uq & max & neval\\\\\n",
       "\\hline\n",
       "\t fit <- survtmle(ftime = ftime, ftype = ftype, trt = A, adjustVars = W,      glm.trt = \"1\", glm.ftime = \"I(W1*W2) + trt + t\", glm.ctime = \"W1 + t\",      method = \"hazard\", t0 = t\\_0) & 0.2023905                                                                                                                                                                              & 0.3553329                                                                                                                                                                              & 0.4939564                                                                                                                                                                              & 0.4316623                                                                                                                                                                              & 0.5383586                                                                                                                                                                              & 1.740011                                                                                                                                                                               & 100                                                                                                                                                                                   \\\\\n",
       "\\end{tabular}\n"
      ],
      "text/markdown": [
       "\n",
       "expr | min | lq | mean | median | uq | max | neval | \n",
       "|---|\n",
       "| fit <- survtmle(ftime = ftime, ftype = ftype, trt = A, adjustVars = W,      glm.trt = \"1\", glm.ftime = \"I(W1*W2) + trt + t\", glm.ctime = \"W1 + t\",      method = \"hazard\", t0 = t_0) | 0.2023905                                                                                                                                                                            | 0.3553329                                                                                                                                                                            | 0.4939564                                                                                                                                                                            | 0.4316623                                                                                                                                                                            | 0.5383586                                                                                                                                                                            | 1.740011                                                                                                                                                                             | 100                                                                                                                                                                                  | \n",
       "\n",
       "\n"
      ],
      "text/plain": [
       "  expr                                                                                                                                                                                \n",
       "1 fit <- survtmle(ftime = ftime, ftype = ftype, trt = A, adjustVars = W,      glm.trt = \"1\", glm.ftime = \"I(W1*W2) + trt + t\", glm.ctime = \"W1 + t\",      method = \"hazard\", t0 = t_0)\n",
       "  min       lq        mean      median    uq        max      neval\n",
       "1 0.2023905 0.3553329 0.4939564 0.4316623 0.5383586 1.740011 100  "
      ]
     },
     "metadata": {},
     "output_type": "display_data"
    }
   ],
   "source": [
    "suppressMessages(\n",
    "    m1 <- microbenchmark(unit = \"s\",\n",
    "        fit <- survtmle(ftime = ftime, ftype = ftype, trt = A, adjustVars = W,\n",
    "                        glm.trt = \"1\", glm.ftime = \"I(W1*W2) + trt + t\",\n",
    "                        glm.ctime = \"W1 + t\", method = \"hazard\", t0 = t_0)\n",
    "    )\n",
    ")\n",
    "summary(m1)"
   ]
  },
  {
   "cell_type": "markdown",
   "metadata": {},
   "source": [
    "This trivial example is merely provided for comparison against the following cases with larger sample sizes."
   ]
  },
  {
   "cell_type": "markdown",
   "metadata": {},
   "source": [
    "### case 2: _n = 1000_"
   ]
  },
  {
   "cell_type": "code",
   "execution_count": 10,
   "metadata": {
    "collapsed": true
   },
   "outputs": [],
   "source": [
    "# simulate data\n",
    "n <- 1000\n",
    "W <- data.frame(W1 = runif(n), W2 = rbinom(n, 1, 0.5))\n",
    "A <- rbinom(n, 1, 0.5)\n",
    "T <- rgeom(n,plogis(-4 + W$W1 * W$W2 - A)) + 1\n",
    "C <- rgeom(n, plogis(-6 + W$W1)) + 1\n",
    "ftime <- pmin(T, C)\n",
    "ftype <- as.numeric(ftime == T)"
   ]
  },
  {
   "cell_type": "code",
   "execution_count": 11,
   "metadata": {},
   "outputs": [
    {
     "name": "stderr",
     "output_type": "stream",
     "text": [
      "'speedglm' ran into an error in estimateHazards ... using 'glm' instead.\n"
     ]
    },
    {
     "data": {
      "text/plain": [
       "   user  system elapsed \n",
       "  2.966   0.427   4.450 "
      ]
     },
     "metadata": {},
     "output_type": "display_data"
    }
   ],
   "source": [
    "system.time(\n",
    "    fit <- survtmle(ftime = ftime, ftype = ftype, trt = A, adjustVars = W,\n",
    "                    glm.trt = \"1\", glm.ftime = \"I(W1*W2) + trt + t\",\n",
    "                    glm.ctime = \"W1 + t\", method = \"hazard\", t0 = t_0)\n",
    ")"
   ]
  },
  {
   "cell_type": "code",
   "execution_count": 12,
   "metadata": {},
   "outputs": [
    {
     "data": {
      "text/html": [
       "<table>\n",
       "<thead><tr><th scope=col>expr</th><th scope=col>min</th><th scope=col>lq</th><th scope=col>mean</th><th scope=col>median</th><th scope=col>uq</th><th scope=col>max</th><th scope=col>neval</th></tr></thead>\n",
       "<tbody>\n",
       "\t<tr><td><span style=white-space:pre-wrap>fit &lt;- survtmle(ftime = ftime, ftype = ftype, trt = A, adjustVars = W,      glm.trt = \"1\", glm.ftime = \"I(W1*W2) + trt + t\", glm.ctime = \"W1 + t\",      method = \"hazard\", t0 = t_0)</span></td><td>3.659519                                                                                                                                                                                                                       </td><td>4.316093                                                                                                                                                                                                                       </td><td>5.54298                                                                                                                                                                                                                        </td><td>5.176611                                                                                                                                                                                                                       </td><td>6.436896                                                                                                                                                                                                                       </td><td>11.74602                                                                                                                                                                                                                       </td><td>100                                                                                                                                                                                                                            </td></tr>\n",
       "</tbody>\n",
       "</table>\n"
      ],
      "text/latex": [
       "\\begin{tabular}{r|llllllll}\n",
       " expr & min & lq & mean & median & uq & max & neval\\\\\n",
       "\\hline\n",
       "\t fit <- survtmle(ftime = ftime, ftype = ftype, trt = A, adjustVars = W,      glm.trt = \"1\", glm.ftime = \"I(W1*W2) + trt + t\", glm.ctime = \"W1 + t\",      method = \"hazard\", t0 = t\\_0) & 3.659519                                                                                                                                                                               & 4.316093                                                                                                                                                                               & 5.54298                                                                                                                                                                                & 5.176611                                                                                                                                                                               & 6.436896                                                                                                                                                                               & 11.74602                                                                                                                                                                               & 100                                                                                                                                                                                   \\\\\n",
       "\\end{tabular}\n"
      ],
      "text/markdown": [
       "\n",
       "expr | min | lq | mean | median | uq | max | neval | \n",
       "|---|\n",
       "| fit <- survtmle(ftime = ftime, ftype = ftype, trt = A, adjustVars = W,      glm.trt = \"1\", glm.ftime = \"I(W1*W2) + trt + t\", glm.ctime = \"W1 + t\",      method = \"hazard\", t0 = t_0) | 3.659519                                                                                                                                                                             | 4.316093                                                                                                                                                                             | 5.54298                                                                                                                                                                              | 5.176611                                                                                                                                                                             | 6.436896                                                                                                                                                                             | 11.74602                                                                                                                                                                             | 100                                                                                                                                                                                  | \n",
       "\n",
       "\n"
      ],
      "text/plain": [
       "  expr                                                                                                                                                                                \n",
       "1 fit <- survtmle(ftime = ftime, ftype = ftype, trt = A, adjustVars = W,      glm.trt = \"1\", glm.ftime = \"I(W1*W2) + trt + t\", glm.ctime = \"W1 + t\",      method = \"hazard\", t0 = t_0)\n",
       "  min      lq       mean    median   uq       max      neval\n",
       "1 3.659519 4.316093 5.54298 5.176611 6.436896 11.74602 100  "
      ]
     },
     "metadata": {},
     "output_type": "display_data"
    }
   ],
   "source": [
    "suppressMessages(\n",
    "    m2 <- microbenchmark(unit = \"s\",\n",
    "        fit <- survtmle(ftime = ftime, ftype = ftype, trt = A, adjustVars = W,\n",
    "                        glm.trt = \"1\", glm.ftime = \"I(W1*W2) + trt + t\",\n",
    "                        glm.ctime = \"W1 + t\", method = \"hazard\", t0 = t_0)\n",
    "    )\n",
    ")\n",
    "summary(m2)"
   ]
  },
  {
   "cell_type": "markdown",
   "metadata": {},
   "source": [
    "..."
   ]
  },
  {
   "cell_type": "markdown",
   "metadata": {},
   "source": [
    "### case 3: _n = 5000_"
   ]
  },
  {
   "cell_type": "code",
   "execution_count": 13,
   "metadata": {
    "collapsed": true
   },
   "outputs": [],
   "source": [
    "# simulate data\n",
    "n <- 5000\n",
    "W <- data.frame(W1 = runif(n), W2 = rbinom(n, 1, 0.5))\n",
    "A <- rbinom(n, 1, 0.5)\n",
    "T <- rgeom(n,plogis(-4 + W$W1 * W$W2 - A)) + 1\n",
    "C <- rgeom(n, plogis(-6 + W$W1)) + 1\n",
    "ftime <- pmin(T, C)\n",
    "ftype <- as.numeric(ftime == T)"
   ]
  },
  {
   "cell_type": "code",
   "execution_count": 14,
   "metadata": {},
   "outputs": [
    {
     "name": "stderr",
     "output_type": "stream",
     "text": [
      "'speedglm' ran into an error in estimateHazards ... using 'glm' instead.\n"
     ]
    },
    {
     "data": {
      "text/plain": [
       "   user  system elapsed \n",
       " 20.423   2.505  36.501 "
      ]
     },
     "metadata": {},
     "output_type": "display_data"
    }
   ],
   "source": [
    "system.time(\n",
    "    fit <- survtmle(ftime = ftime, ftype = ftype, trt = A, adjustVars = W,\n",
    "                    glm.trt = \"1\", glm.ftime = \"I(W1*W2) + trt + t\",\n",
    "                    glm.ctime = \"W1 + t\", method = \"hazard\", t0 = t_0)\n",
    ")"
   ]
  },
  {
   "cell_type": "code",
   "execution_count": 49,
   "metadata": {
    "collapsed": true
   },
   "outputs": [],
   "source": [
    "#m3 <- microbenchmark(unit = \"s\",\n",
    "#    fit <- survtmle(ftime = ftime, ftype = ftype, trt = A, adjustVars = W,\n",
    "#                    glm.trt = \"1\", glm.ftime = \"I(W1*W2) + trt + t\",\n",
    "#                    glm.ctime = \"W1 + t\", method = \"hazard\", t0 = t_0)\n",
    "#)\n",
    "#summary(m3)"
   ]
  },
  {
   "cell_type": "markdown",
   "metadata": {},
   "source": [
    "This case takes too long to benchmark properly."
   ]
  },
  {
   "cell_type": "markdown",
   "metadata": {},
   "source": [
    "## <u>Example 2: a \"more real\" simulated data set</u>\n",
    "This is a more interesting example wherein the simulated data set contains a larger number of covariates, which might be interesting in real-world / practical applications."
   ]
  },
  {
   "cell_type": "code",
   "execution_count": 6,
   "metadata": {
    "collapsed": true
   },
   "outputs": [],
   "source": [
    "# functions for this simulation\n",
    "get.ftimeForm <- function(trt, site){\n",
    "\tform <- \"-1\"\n",
    "\tfor(i in unique(trt)){\n",
    "\t\tfor(s in unique(site)){\n",
    "\t\t\tform <- c(form, \n",
    "\t\t\t  paste0(\"I(trt==\",i,\"& site == \",s,\" & t==\",\n",
    "\t\t\t         unique(ftime[ftype>0 & trt==i & site == s]),\")\",\n",
    "\t\t\t         collapse=\"+\"))\n",
    "\t\t}\n",
    "\t}\n",
    "\treturn(paste(form,collapse=\"+\"))\n",
    "}\n",
    "\n",
    "get.ctimeForm <- function(trt, site){\n",
    "\tform <- \"-1\"\n",
    "\tfor(i in unique(trt)){\n",
    "\t\tfor(s in unique(site)){\n",
    "\t\t\tform <- c(form, \n",
    "\t\t\t  paste0(\"I(trt==\",i,\"& site == \",s,\" & t==\",\n",
    "\t\t\t         unique(ftime[ftype==0 & trt==i & site == s]),\")\",\n",
    "\t\t\t         collapse=\"+\"))\n",
    "\t\t}\n",
    "\t}\n",
    "\treturn(paste(form,collapse=\"+\"))\n",
    "}"
   ]
  },
  {
   "cell_type": "markdown",
   "metadata": {},
   "source": [
    "### case 1: _n = 100 (trivial example)_"
   ]
  },
  {
   "cell_type": "code",
   "execution_count": 7,
   "metadata": {
    "collapsed": true
   },
   "outputs": [],
   "source": [
    "# simulate data\n",
    "n <- 100\n",
    "trt <- rbinom(n, 1, 0.5)\n",
    "\n",
    "# e.g., study site\n",
    "adjustVars <- data.frame(site = (rbinom(n,1,0.5) + 1))\n",
    "ftime <- round(1 + runif(n, 1, 350) - trt + adjustVars$site)\n",
    "ftype <- round(runif(n, 0, 1))\n",
    "\n",
    "glm.ftime <- get.ftimeForm(trt = trt, site = adjustVars$site)\n",
    "glm.ctime <- get.ctimeForm(trt = trt, site = adjustVars$site)"
   ]
  },
  {
   "cell_type": "code",
   "execution_count": 8,
   "metadata": {},
   "outputs": [
    {
     "name": "stderr",
     "output_type": "stream",
     "text": [
      "'speedglm' ran into an error in estimateTreatment ... using 'glm' instead.\n"
     ]
    },
    {
     "data": {
      "text/plain": [
       "   user  system elapsed \n",
       "  1.571   0.132   1.897 "
      ]
     },
     "metadata": {},
     "output_type": "display_data"
    }
   ],
   "source": [
    "system.time(\n",
    "    fit <- survtmle(ftime = ftime, ftype = ftype, trt = trt, adjustVars = adjustVars,\n",
    "                    glm.trt = \"1\", glm.ftime = glm.ftime, glm.ctime = glm.ctime,\n",
    "                    method = \"hazard\", t0 = t_0)\n",
    ")"
   ]
  },
  {
   "cell_type": "code",
   "execution_count": 9,
   "metadata": {},
   "outputs": [
    {
     "data": {
      "text/html": [
       "<table>\n",
       "<thead><tr><th scope=col>expr</th><th scope=col>min</th><th scope=col>lq</th><th scope=col>mean</th><th scope=col>median</th><th scope=col>uq</th><th scope=col>max</th><th scope=col>neval</th></tr></thead>\n",
       "<tbody>\n",
       "\t<tr><td><span style=white-space:pre-wrap>fit &lt;- survtmle(ftime = ftime, ftype = ftype, trt = trt, adjustVars = adjustVars,      glm.trt = \"1\", glm.ftime = glm.ftime, glm.ctime = glm.ctime,      method = \"hazard\", t0 = t_0)</span></td><td>1.423693                                                                                                                                                                                                                        </td><td>1.513326                                                                                                                                                                                                                        </td><td>1.697925                                                                                                                                                                                                                        </td><td>1.673614                                                                                                                                                                                                                        </td><td>1.772479                                                                                                                                                                                                                        </td><td>2.097713                                                                                                                                                                                                                        </td><td>10                                                                                                                                                                                                                              </td></tr>\n",
       "</tbody>\n",
       "</table>\n"
      ],
      "text/latex": [
       "\\begin{tabular}{r|llllllll}\n",
       " expr & min & lq & mean & median & uq & max & neval\\\\\n",
       "\\hline\n",
       "\t fit <- survtmle(ftime = ftime, ftype = ftype, trt = trt, adjustVars = adjustVars,      glm.trt = \"1\", glm.ftime = glm.ftime, glm.ctime = glm.ctime,      method = \"hazard\", t0 = t\\_0) & 1.423693                                                                                                                                                                                & 1.513326                                                                                                                                                                                & 1.697925                                                                                                                                                                                & 1.673614                                                                                                                                                                                & 1.772479                                                                                                                                                                                & 2.097713                                                                                                                                                                                & 10                                                                                                                                                                                     \\\\\n",
       "\\end{tabular}\n"
      ],
      "text/markdown": [
       "\n",
       "expr | min | lq | mean | median | uq | max | neval | \n",
       "|---|\n",
       "| fit <- survtmle(ftime = ftime, ftype = ftype, trt = trt, adjustVars = adjustVars,      glm.trt = \"1\", glm.ftime = glm.ftime, glm.ctime = glm.ctime,      method = \"hazard\", t0 = t_0) | 1.423693                                                                                                                                                                              | 1.513326                                                                                                                                                                              | 1.697925                                                                                                                                                                              | 1.673614                                                                                                                                                                              | 1.772479                                                                                                                                                                              | 2.097713                                                                                                                                                                              | 10                                                                                                                                                                                    | \n",
       "\n",
       "\n"
      ],
      "text/plain": [
       "  expr                                                                                                                                                                                 \n",
       "1 fit <- survtmle(ftime = ftime, ftype = ftype, trt = trt, adjustVars = adjustVars,      glm.trt = \"1\", glm.ftime = glm.ftime, glm.ctime = glm.ctime,      method = \"hazard\", t0 = t_0)\n",
       "  min      lq       mean     median   uq       max      neval\n",
       "1 1.423693 1.513326 1.697925 1.673614 1.772479 2.097713 10   "
      ]
     },
     "metadata": {},
     "output_type": "display_data"
    }
   ],
   "source": [
    "suppressMessages(\n",
    "    m4 <- microbenchmark(unit = \"s\", times = 10,\n",
    "        fit <- survtmle(ftime = ftime, ftype = ftype, trt = trt, adjustVars = adjustVars,\n",
    "                        glm.trt = \"1\", glm.ftime = glm.ftime, glm.ctime = glm.ctime,\n",
    "                        method = \"hazard\", t0 = t_0)\n",
    "    )\n",
    ")\n",
    "summary(m4)"
   ]
  },
  {
   "cell_type": "markdown",
   "metadata": {},
   "source": [
    "This trivial example is merely provided for comparison against the following cases with larger sample sizes."
   ]
  },
  {
   "cell_type": "markdown",
   "metadata": {},
   "source": [
    "### case 2: _n = 1000_"
   ]
  },
  {
   "cell_type": "code",
   "execution_count": 10,
   "metadata": {
    "collapsed": true
   },
   "outputs": [],
   "source": [
    "# simulate data\n",
    "n <- 1000\n",
    "trt <- rbinom(n, 1, 0.5)\n",
    "\n",
    "# e.g., study site\n",
    "adjustVars <- data.frame(site = (rbinom(n,1,0.5) + 1))\n",
    "ftime <- round(1 + runif(n, 1, 350) - trt + adjustVars$site)\n",
    "ftype <- round(runif(n, 0, 1))\n",
    "\n",
    "glm.ftime <- get.ftimeForm(trt = trt, site = adjustVars$site)\n",
    "glm.ctime <- get.ctimeForm(trt = trt, site = adjustVars$site)"
   ]
  },
  {
   "cell_type": "code",
   "execution_count": 11,
   "metadata": {},
   "outputs": [
    {
     "name": "stderr",
     "output_type": "stream",
     "text": [
      "'speedglm' ran into an error in estimateTreatment ... using 'glm' instead.\n"
     ]
    },
    {
     "data": {
      "text/plain": [
       "   user  system elapsed \n",
       "314.564 196.807 988.427 "
      ]
     },
     "metadata": {},
     "output_type": "display_data"
    }
   ],
   "source": [
    "system.time(\n",
    "    fit <- survtmle(ftime = ftime, ftype = ftype, trt = trt, adjustVars = adjustVars,\n",
    "                    glm.trt = \"1\", glm.ftime = glm.ftime, glm.ctime = glm.ctime,\n",
    "                    method = \"hazard\", t0 = t_0)\n",
    ")"
   ]
  },
  {
   "cell_type": "code",
   "execution_count": null,
   "metadata": {
    "collapsed": true
   },
   "outputs": [],
   "source": [
    "suppressMessages(\n",
    "    m5 <- microbenchmark(unit = \"s\", times = 10,\n",
    "        fit <- survtmle(ftime = ftime, ftype = ftype, trt = trt, adjustVars = adjustVars,\n",
    "                        glm.trt = \"1\", glm.ftime = glm.ftime, glm.ctime = glm.ctime,\n",
    "                        method = \"hazard\", t0 = t_0)\n",
    "    )\n",
    ")\n",
    "summary(m5)"
   ]
  },
  {
   "cell_type": "markdown",
   "metadata": {},
   "source": [
    "commentary here..."
   ]
  },
  {
   "cell_type": "markdown",
   "metadata": {},
   "source": [
    "### case 3: _n = 5000_"
   ]
  },
  {
   "cell_type": "code",
   "execution_count": null,
   "metadata": {
    "collapsed": true
   },
   "outputs": [],
   "source": [
    "# simulate data\n",
    "#n <- 5000\n",
    "#trt <- rbinom(n, 1, 0.5)\n",
    "\n",
    "# e.g., study site\n",
    "#adjustVars <- data.frame(site = (rbinom(n,1,0.5) + 1))\n",
    "#ftime <- round(1 + runif(n, 1, 350) - trt + adjustVars$site)\n",
    "#ftype <- round(runif(n, 0, 1))\n",
    "\n",
    "#glm.ftime <- get.ftimeForm(trt = trt, site = adjustVars$site)\n",
    "#glm.ctime <- get.ctimeForm(trt = trt, site = adjustVars$site)"
   ]
  },
  {
   "cell_type": "code",
   "execution_count": null,
   "metadata": {
    "collapsed": true
   },
   "outputs": [],
   "source": [
    "#system.time(\n",
    "#    fit <- survtmle(ftime = ftime, ftype = ftype, trt = trt, adjustVars = adjustVars,\n",
    "#                    glm.trt = \"1\", glm.ftime = glm.ftime, glm.ctime = glm.ctime,\n",
    "#                    method = \"hazard\", t0 = t_0)\n",
    "#)"
   ]
  },
  {
   "cell_type": "code",
   "execution_count": null,
   "metadata": {
    "collapsed": true
   },
   "outputs": [],
   "source": [
    "#m6 <- microbenchmark(unit = \"s\",\n",
    "#    fit <- survtmle(ftime = ftime, ftype = ftype, trt = trt, adjustVars = adjustVars,\n",
    "#                    glm.trt = \"1\", glm.ftime = glm.ftime, glm.ctime = glm.ctime,\n",
    "#                    method = \"hazard\", t0 = t_0)\n",
    "#)\n",
    "#summary(m6)"
   ]
  },
  {
   "cell_type": "markdown",
   "metadata": {},
   "source": [
    "As in the previous example, this case takes too long to benchmark properly."
   ]
  },
  {
   "cell_type": "code",
   "execution_count": 10,
   "metadata": {},
   "outputs": [
    {
     "name": "stderr",
     "output_type": "stream",
     "text": [
      "'speedglm' ran into an error in estimateCensoring ... using 'glm' instead.\n",
      "'speedglm' ran into an error in estimateHazards ... using 'glm' instead.\n"
     ]
    },
    {
     "name": "stdout",
     "output_type": "stream",
     "text": [
      "No traceback available \n"
     ]
    }
   ],
   "source": [
    "fit <- survtmle(ftime = ftime, ftype = ftype, trt = trt, adjustVars = adjustVars,\n",
    "                    glm.trt = \"1\", glm.ftime = glm.ftime, glm.ctime = glm.ctime,\n",
    "                    method = \"hazard\", t0 = t_0)\n",
    "traceback()"
   ]
  },
  {
   "cell_type": "code",
   "execution_count": 9,
   "metadata": {},
   "outputs": [
    {
     "name": "stdout",
     "output_type": "stream",
     "text": [
      "No traceback available \n"
     ]
    }
   ],
   "source": []
  }
 ],
 "metadata": {
  "kernelspec": {
   "display_name": "R",
   "language": "R",
   "name": "ir"
  },
  "language_info": {
   "codemirror_mode": "r",
   "file_extension": ".r",
   "mimetype": "text/x-r-source",
   "name": "R",
   "pygments_lexer": "r",
   "version": "3.4.1"
  }
 },
 "nbformat": 4,
 "nbformat_minor": 2
}
